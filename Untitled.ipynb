{
 "cells": [
  {
   "cell_type": "code",
   "execution_count": 66,
   "metadata": {},
   "outputs": [],
   "source": [
    "class person:\n",
    "    \n",
    "    def __init__(self,name,age):\n",
    "        self.name = name\n",
    "        self.__age  = age\n",
    "        \n",
    "    ##def __wish(self):\n",
    " ##   print('Hello!!')\n",
    "        \n",
    "    def whoami(self):\n",
    "        #wish()\n",
    "        print(\"Your name is \"+self.name)\n",
    "        print('Your age is '+ str(self.__age))"
   ]
  },
  {
   "cell_type": "code",
   "execution_count": 67,
   "metadata": {},
   "outputs": [],
   "source": [
    "p1 = person('neha',23)\n",
    "p2 = person('om',6)"
   ]
  },
  {
   "cell_type": "code",
   "execution_count": 68,
   "metadata": {},
   "outputs": [
    {
     "name": "stdout",
     "output_type": "stream",
     "text": [
      "Your name is neha\n",
      "Your age is 23\n"
     ]
    }
   ],
   "source": [
    "p1.whoami()"
   ]
  },
  {
   "cell_type": "code",
   "execution_count": 44,
   "metadata": {},
   "outputs": [],
   "source": [
    "p1.name = 'aarohan'"
   ]
  },
  {
   "cell_type": "code",
   "execution_count": 69,
   "metadata": {},
   "outputs": [
    {
     "ename": "AttributeError",
     "evalue": "'person' object has no attribute 'age'",
     "output_type": "error",
     "traceback": [
      "\u001b[0;31m---------------------------------------------------------------------------\u001b[0m",
      "\u001b[0;31mAttributeError\u001b[0m                            Traceback (most recent call last)",
      "\u001b[0;32m<ipython-input-69-bdf2744a45d7>\u001b[0m in \u001b[0;36m<module>\u001b[0;34m\u001b[0m\n\u001b[0;32m----> 1\u001b[0;31m \u001b[0mp1\u001b[0m\u001b[0;34m.\u001b[0m\u001b[0mage\u001b[0m\u001b[0;34m\u001b[0m\u001b[0;34m\u001b[0m\u001b[0m\n\u001b[0m",
      "\u001b[0;31mAttributeError\u001b[0m: 'person' object has no attribute 'age'"
     ]
    }
   ],
   "source": [
    "p1.age"
   ]
  },
  {
   "cell_type": "code",
   "execution_count": 47,
   "metadata": {},
   "outputs": [
    {
     "data": {
      "text/plain": [
       "'aarohan'"
      ]
     },
     "execution_count": 47,
     "metadata": {},
     "output_type": "execute_result"
    }
   ],
   "source": [
    "p2.name "
   ]
  },
  {
   "cell_type": "code",
   "execution_count": 71,
   "metadata": {},
   "outputs": [
    {
     "name": "stdout",
     "output_type": "stream",
     "text": [
      "pYTHONIST 2\n"
     ]
    }
   ],
   "source": [
    "s = 'Pythonist 2' # → pYTHONIST 2\n",
    "print(s.swapcase())"
   ]
  },
  {
   "cell_type": "code",
   "execution_count": 74,
   "metadata": {},
   "outputs": [
    {
     "name": "stdout",
     "output_type": "stream",
     "text": [
      "5\n",
      "Dip\n"
     ]
    }
   ],
   "source": [
    "s = \"JhonDipPeta\"\n",
    "n = int(len(s)/2)\n",
    "print(n)\n",
    "s1 = s[n-1:n+2]\n",
    "print(s1)"
   ]
  },
  {
   "cell_type": "code",
   "execution_count": 3,
   "metadata": {},
   "outputs": [
    {
     "name": "stdout",
     "output_type": "stream",
     "text": [
      "2\n",
      "Au\n",
      "AuKellylt\n"
     ]
    }
   ],
   "source": [
    "s1 = \"Ault\"\n",
    "s2 = \"Kelly\"\n",
    "\n",
    "#s1 = input('enter :')\n",
    "#s2 = input('enter :')\n",
    "\n",
    "n = int(len(s1)/2)\n",
    "print(n)\n",
    "if \n",
    "s3 = s1[:n] + s2 + s1[n:]\n",
    "print(s3)"
   ]
  },
  {
   "cell_type": "code",
   "execution_count": 27,
   "metadata": {},
   "outputs": [
    {
     "name": "stdout",
     "output_type": "stream",
     "text": [
      "3\n",
      "AJrpan\n"
     ]
    }
   ],
   "source": [
    "s1 = \"America\"\n",
    "s2 = \"Japan\"\n",
    "\n",
    "if len(s1)%2 ==0:\n",
    "    n1 = int(len(s1)/2) -1\n",
    "else:\n",
    "    n1 = int(len(s1)/2) \n",
    "    \n",
    "n11 = len(s1) - 1\n",
    "n21 = len(s2) - 1\n",
    "\n",
    "if len(s2)%2 ==0:\n",
    "    n2 = int(len(s2)/2) -1\n",
    "else:\n",
    "    n2 = int(len(s2)/2) \n",
    "print(n1)\n",
    "\n",
    "s3 = s1[0] + s2[0] + s1[n1] + s2[n2] + s1[n11] + s2[n21]\n",
    "print(s3)\n",
    "    "
   ]
  },
  {
   "cell_type": "code",
   "execution_count": 28,
   "metadata": {},
   "outputs": [
    {
     "name": "stdout",
     "output_type": "stream",
     "text": [
      "arranging characters giving precedence to lowercase letters:\n",
      "yaivePNT\n"
     ]
    }
   ],
   "source": [
    "str1 = \"PyNaTive\"\n",
    "lower = []\n",
    "upper = []\n",
    "for char in str1:\n",
    "    if char.islower():\n",
    "        lower.append(char)\n",
    "    else:\n",
    "        upper.append(char)\n",
    "sorted_string = ''.join(lower + upper)\n",
    "print(\"arranging characters giving precedence to lowercase letters:\")\n",
    "print(sorted_string)\n",
    "    "
   ]
  },
  {
   "cell_type": "code",
   "execution_count": 31,
   "metadata": {},
   "outputs": [
    {
     "name": "stdout",
     "output_type": "stream",
     "text": [
      "Chars = 8\n",
      "Digits = 3\n",
      "Symbol = 4\n"
     ]
    }
   ],
   "source": [
    "str1 = \"P@#yn26at^&i5ve\"\n",
    "Chars = 0 \n",
    "Digits = 0\n",
    "Symbol = 0\n",
    "for i in range(len(str1)):\n",
    "    if str1[i].isalpha():\n",
    "        Chars += 1\n",
    "    elif str1[i].isdigit():\n",
    "        Digits += 1\n",
    "    else:\n",
    "        Symbol += 1\n",
    "print('Chars = '+ str(Chars))\n",
    "print('Digits = '+ str(Digits))\n",
    "print('Symbol = '+ str(Symbol))\n",
    "        "
   ]
  },
  {
   "cell_type": "code",
   "execution_count": 115,
   "metadata": {},
   "outputs": [
    {
     "name": "stdout",
     "output_type": "stream",
     "text": [
      "2\n",
      "AzbycX\n"
     ]
    }
   ],
   "source": [
    "s1 = \"Abc\"\n",
    "s2 = \"Xyz\"\n",
    "s3 = str()\n",
    "n1 = len(s1)\n",
    "j = len(s2) - 1\n",
    "print(j)\n",
    "for i in s1:\n",
    "    s3 += i + s2[j]\n",
    "    j = j-1\n",
    "\n",
    "print(s3)\n",
    "    \n"
   ]
  },
  {
   "cell_type": "code",
   "execution_count": 39,
   "metadata": {},
   "outputs": [
    {
     "name": "stdout",
     "output_type": "stream",
     "text": [
      "True\n",
      "False\n"
     ]
    }
   ],
   "source": [
    "s1 = \"Yn\"\n",
    "s2 = \"PYnative\"\n",
    "print(s1 in s2)\n",
    "\n",
    "s1 = \"Ynf\"\n",
    "s2 = \"PYnative\"\n",
    "print(s1 in s2)"
   ]
  },
  {
   "cell_type": "code",
   "execution_count": 43,
   "metadata": {},
   "outputs": [
    {
     "name": "stdout",
     "output_type": "stream",
     "text": [
      "2\n"
     ]
    }
   ],
   "source": [
    "str1 = \"Welcome to USA. usa awesome, isn't it?\"\n",
    "str2 = str1.upper()\n",
    "print(str1.upper().count('USA'))"
   ]
  },
  {
   "cell_type": "code",
   "execution_count": 64,
   "metadata": {},
   "outputs": [
    {
     "name": "stdout",
     "output_type": "stream",
     "text": [
      "evitanYP\n"
     ]
    }
   ],
   "source": [
    "str1 = \"PYnative\"\n",
    "s2 = str1[::-1]\n",
    "print(s2)"
   ]
  },
  {
   "cell_type": "code",
   "execution_count": 62,
   "metadata": {},
   "outputs": [
    {
     "data": {
      "application/javascript": [
       "\n",
       "        if (window._pyforest_update_imports_cell) { window._pyforest_update_imports_cell('import re'); }\n",
       "    "
      ],
      "text/plain": [
       "<IPython.core.display.Javascript object>"
      ]
     },
     "metadata": {},
     "output_type": "display_data"
    },
    {
     "name": "stdout",
     "output_type": "stream",
     "text": [
      "sum :294\n",
      "Average : 73.5\n"
     ]
    }
   ],
   "source": [
    "inputStr = \"English = 78 Science = 83- Math = 68 History = 65\"\n",
    "markList = [int(num) for num in re.findall(r'\\b\\d+\\b', inputStr)]\n",
    "sum = 0\n",
    "for i in markList:\n",
    "    sum += i\n",
    "print('sum :' +str(sum))\n",
    "\n",
    "avg = sum/len(markList)\n",
    "print('Average : '+ str(avg))"
   ]
  },
  {
   "cell_type": "code",
   "execution_count": 116,
   "metadata": {},
   "outputs": [
    {
     "name": "stdout",
     "output_type": "stream",
     "text": [
      "{'A': 1, 'p': 2, 'l': 1, 'e': 1}\n"
     ]
    }
   ],
   "source": [
    "d = {}\n",
    "str1 = \"Apple\"\n",
    "n = len(str1)\n",
    "\n",
    "for i in str1:\n",
    "    j = i\n",
    "    d[j] = str1.count(j)\n",
    "\n",
    "print(d)\n",
    "\n"
   ]
  },
  {
   "cell_type": "code",
   "execution_count": 65,
   "metadata": {},
   "outputs": [
    {
     "name": "stdout",
     "output_type": "stream",
     "text": [
      "43\n"
     ]
    }
   ],
   "source": [
    "str1 = \"Emma is a data scientist who knows Python. Emma works at google.\"\n",
    "print(str1.rfind('Emma'))"
   ]
  },
  {
   "cell_type": "code",
   "execution_count": 73,
   "metadata": {},
   "outputs": [
    {
     "name": "stdout",
     "output_type": "stream",
     "text": [
      "['Emma', 'is', 'a', 'data', 'scientist']\n",
      "Emma\n",
      "is\n",
      "a\n",
      "data\n",
      "scientist\n"
     ]
    }
   ],
   "source": [
    "str1 = \"Emma-is-a-data-scientist\"\n",
    "\n",
    "substrings = str1.split('-')\n",
    "\n",
    "print(substrings)\n",
    "for sub in substrings:\n",
    "    print(sub)"
   ]
  },
  {
   "cell_type": "code",
   "execution_count": 79,
   "metadata": {},
   "outputs": [
    {
     "name": "stdout",
     "output_type": "stream",
     "text": [
      "['Emma', 'Jon', 'Kelly', 'Eric']\n"
     ]
    }
   ],
   "source": [
    "s1= [\"Emma\", \"Jon\", \"\", \"Kelly\", None, \"Eric\", \"\"]\n",
    "\n",
    "for i in s1:\n",
    "    if i:\n",
    "        pass\n",
    "    else:\n",
    "        s1.remove(i)\n",
    "\n",
    "print(s1)"
   ]
  },
  {
   "cell_type": "code",
   "execution_count": 82,
   "metadata": {},
   "outputs": [
    {
     "name": "stdout",
     "output_type": "stream",
     "text": [
      "Jon is developer  musician\n"
     ]
    }
   ],
   "source": [
    "str1 = \"/*Jon is @developer & musician\"\n",
    "s = str()\n",
    "for i in range(len(str1)):\n",
    "    if str1[i].isalnum() or str1[i].isspace():\n",
    "        s = s + str1[i]\n",
    "    else:\n",
    "        pass\n",
    "print(s)"
   ]
  },
  {
   "cell_type": "code",
   "execution_count": 87,
   "metadata": {},
   "outputs": [
    {
     "name": "stdout",
     "output_type": "stream",
     "text": [
      "Emma25\n",
      "scientist50\n"
     ]
    }
   ],
   "source": [
    "str1 = \"Emma25 is Data scientist50 and AI Expert\"\n",
    "s = str1.split()\n",
    "for i in s:\n",
    "    if str(i).isalpha():\n",
    "        pass\n",
    "    else:\n",
    "        print(i)"
   ]
  },
  {
   "cell_type": "code",
   "execution_count": 91,
   "metadata": {},
   "outputs": [
    {
     "name": "stdout",
     "output_type": "stream",
     "text": [
      "##Jon is #developer # musician##\n"
     ]
    }
   ],
   "source": [
    "s1 = '/*Jon is @developer & musician!!'\n",
    "s2 = str()\n",
    "for i in range(len(s1)):\n",
    "    if s1[i].isalnum() or s1[i].isspace():\n",
    "        s2 = s2 + s1[i]\n",
    "    else:\n",
    "        s2 = s2 + '#'\n",
    "print(s2)"
   ]
  },
  {
   "cell_type": "code",
   "execution_count": 93,
   "metadata": {},
   "outputs": [
    {
     "name": "stdout",
     "output_type": "stream",
     "text": [
      "2\n"
     ]
    }
   ],
   "source": [
    "s1 = 'Today is Monday'\n",
    "print(s1.count('a'))"
   ]
  },
  {
   "cell_type": "code",
   "execution_count": 109,
   "metadata": {},
   "outputs": [
    {
     "name": "stdout",
     "output_type": "stream",
     "text": [
      "ABCD\n",
      "EFGH\n",
      "IJKL\n",
      "IMNO\n",
      "QRST\n",
      "UVWX\n",
      "YZ\n"
     ]
    }
   ],
   "source": [
    "s1 = 'ABCDEFGHIJKLIMNOQRSTUVWXYZ'\n",
    "n1 = 4\n",
    "s2 = str()\n",
    "i=0\n",
    "while i < len(s1):\n",
    "    j=i\n",
    "    while j < i+4:\n",
    "        \n",
    "        s2 += s1[j]\n",
    "        j = j + 1\n",
    "        if j == len(s1):\n",
    "            break\n",
    "    print(s2)\n",
    "    s2 = \"\"\n",
    "    i += 4\n",
    "    \n",
    "        \n",
    "    "
   ]
  },
  {
   "cell_type": "code",
   "execution_count": 114,
   "metadata": {},
   "outputs": [
    {
     "name": "stdout",
     "output_type": "stream",
     "text": [
      "neha\n",
      "<class 'str'>\n",
      "n\n",
      "e\n",
      "h\n",
      "a\n"
     ]
    }
   ],
   "source": [
    "a = input()\n",
    "print(type(a))\n",
    "for i in range(len(a)):\n",
    "    print(a[i])"
   ]
  },
  {
   "cell_type": "code",
   "execution_count": 117,
   "metadata": {},
   "outputs": [
    {
     "name": "stdout",
     "output_type": "stream",
     "text": [
      "12\n",
      "12\n"
     ]
    }
   ],
   "source": [
    "a = \"Refrigerator\"\n",
    "n = 0\n",
    "for i in a:\n",
    "    n += 1\n",
    "print(n)\n",
    "print(len(a))"
   ]
  },
  {
   "cell_type": "code",
   "execution_count": 119,
   "metadata": {},
   "outputs": [
    {
     "name": "stdout",
     "output_type": "stream",
     "text": [
      "True\n"
     ]
    }
   ],
   "source": [
    "print('orange' in 'this is orange juice')"
   ]
  },
  {
   "cell_type": "code",
   "execution_count": 121,
   "metadata": {},
   "outputs": [
    {
     "name": "stdout",
     "output_type": "stream",
     "text": [
      ", good, morning\n"
     ]
    }
   ],
   "source": [
    "s = \"Hello, good, morning, World\"\n",
    "n1 = s.find(',')\n",
    "n2 = s.rfind(',')\n",
    "s1 = s[n1:n2]\n",
    "print(s1)\n"
   ]
  },
  {
   "cell_type": "code",
   "execution_count": 129,
   "metadata": {},
   "outputs": [
    {
     "name": "stdout",
     "output_type": "stream",
     "text": [
      " Robert Brett Roser\n",
      "R. B. Roser\n"
     ]
    }
   ],
   "source": [
    "f =  input()\n",
    "s = f.split()\n",
    "s1 = s[0][0] + \". \"+ s[1][0] + \". \" + s[2]\n",
    "print(s1)"
   ]
  },
  {
   "cell_type": "code",
   "execution_count": 131,
   "metadata": {},
   "outputs": [
    {
     "name": "stdout",
     "output_type": "stream",
     "text": [
      "True\n",
      "1\n",
      "True\n",
      "2\n"
     ]
    }
   ],
   "source": [
    "s = 'This is umbrella'\n",
    "print('e' in s)\n",
    "print(s.count('e'))\n",
    "print('is' in s)\n",
    "print(s.count('is'))"
   ]
  },
  {
   "cell_type": "code",
   "execution_count": 135,
   "metadata": {},
   "outputs": [
    {
     "name": "stdout",
     "output_type": "stream",
     "text": [
      "Hll,hvgddy\n"
     ]
    }
   ],
   "source": [
    "a = ['a','e','i','o','u','A','E','I','O','U',' ']\n",
    "b = \"Hello, have a good day\"\n",
    "c = str()\n",
    "for i in b:\n",
    "  if i not in a:\n",
    "    c = c + i\n",
    "    #b = b[:b.index(i)]+b[b.index(i)+1:]\n",
    "print(c)"
   ]
  },
  {
   "cell_type": "code",
   "execution_count": 136,
   "metadata": {},
   "outputs": [
    {
     "name": "stdout",
     "output_type": "stream",
     "text": [
      "vowel : 8\n",
      "Consonent : 9\n",
      "digit : 7\n",
      "space : 6\n"
     ]
    }
   ],
   "source": [
    "a = ['a','e','i','o','u','A','E','I','O','U']\n",
    "b = \"Hello, 1234 have a good day 100.\"\n",
    "vowel = 0\n",
    "Consonent = 0\n",
    "digit = 0\n",
    "space = 0\n",
    "\n",
    "for i in b:\n",
    "    if i.isalpha():\n",
    "        if i in a:\n",
    "            vowel += 1\n",
    "        else:\n",
    "            Consonent += 1\n",
    "    elif i.isdigit():\n",
    "        digit += 1\n",
    "    elif i.isspace():\n",
    "        space += 1\n",
    "\n",
    "print('vowel : '+str(vowel))\n",
    "print('Consonent : '+str(Consonent))\n",
    "print('digit : '+str(digit))\n",
    "print('space : '+str(space))\n",
    "        \n",
    "            "
   ]
  },
  {
   "cell_type": "code",
   "execution_count": 150,
   "metadata": {},
   "outputs": [
    {
     "name": "stdout",
     "output_type": "stream",
     "text": [
      "max word : umbrella\n",
      "min word : an\n"
     ]
    }
   ],
   "source": [
    "s = 'This is an umbrella'\n",
    "l = s.split()\n",
    "ml = len(l[0])\n",
    "mw = l[0]\n",
    "for i in l:\n",
    "    if ml < len(i):\n",
    "        maxx = len(i)\n",
    "        mw = i\n",
    "print( \"max word : \"+mw)\n",
    "\n",
    "ml = len(l[0])\n",
    "mw = l[0]\n",
    "for i in l:\n",
    "    if ml > len(i):\n",
    "        min = len(i)\n",
    "        mw = i\n",
    "print( \"min word : \"+mw)\n",
    "#print(min(l))\n",
    "#print(max(l))"
   ]
  },
  {
   "cell_type": "code",
   "execution_count": 155,
   "metadata": {},
   "outputs": [
    {
     "name": "stdout",
     "output_type": "stream",
     "text": [
      "ccaacc\n",
      "its palidrone\n",
      "ccaacc\n"
     ]
    }
   ],
   "source": [
    "# aba, ccaacc, mom\n",
    "s = input()\n",
    "s1 = s[::-1]\n",
    "if s == s1:\n",
    "    print('its palidrone')\n",
    "else:\n",
    "   print('its not palidrone')\n",
    "print(s1)"
   ]
  },
  {
   "cell_type": "code",
   "execution_count": 159,
   "metadata": {},
   "outputs": [
    {
     "name": "stdout",
     "output_type": "stream",
     "text": [
      "['aarohan', 'neha', 'om', 'preetam', 'pulin']\n",
      "['pulin', 'preetam', 'om', 'neha', 'aarohan']\n"
     ]
    }
   ],
   "source": [
    "l = ['neha','aarohan','om','preetam','pulin']\n",
    "l.sort()\n",
    "print(l)\n",
    "l.reverse()\n",
    "print(l)\n"
   ]
  },
  {
   "cell_type": "code",
   "execution_count": 163,
   "metadata": {},
   "outputs": [
    {
     "name": "stdout",
     "output_type": "stream",
     "text": [
      "This is lion in cage\n"
     ]
    }
   ],
   "source": [
    "s = \"This is the lion in the cage\"\n",
    "s1 = s.split()\n",
    "for i in s1:\n",
    "    if i == 'the':\n",
    "        s1.remove(i)\n",
    "s2 = \" \".join(s1)\n",
    "print(s2)\n"
   ]
  },
  {
   "cell_type": "code",
   "execution_count": 175,
   "metadata": {},
   "outputs": [
    {
     "name": "stdout",
     "output_type": "stream",
     "text": [
      "2 not anagram\n"
     ]
    }
   ],
   "source": [
    "s1 = 'ajaxd'\n",
    "s2 = 'jaxa'\n",
    "l1 =[]\n",
    "l2 =[]\n",
    "n =0\n",
    "for i in s1:\n",
    "    l1.append(i)\n",
    "for i in s2:\n",
    "    l2.append(i)\n",
    "l1.sort()\n",
    "l2.sort()\n",
    "if len(s1) == len(s2):\n",
    "    for i in range(len(s1)):\n",
    "        if l1[i] != l2[i]:\n",
    "            print('1not anagram')\n",
    "        else:\n",
    "            n += 1\n",
    "    \n",
    "else:\n",
    "    print('2 not anagram')\n",
    "if n == len(l1):\n",
    "    print('anagram')        \n",
    "#print(l1)\n",
    "#print(l2)\n",
    "    "
   ]
  },
  {
   "cell_type": "code",
   "execution_count": 180,
   "metadata": {},
   "outputs": [
    {
     "name": "stdout",
     "output_type": "stream",
     "text": [
      "5\n",
      "c\n",
      "4\n",
      "cc\n",
      "3\n",
      "cca\n",
      "2\n",
      "ccaa\n",
      "1\n",
      "ccaac\n",
      "0\n",
      "ccaacc\n",
      "ccaacc\n",
      "palindrone\n"
     ]
    }
   ],
   "source": [
    "# a = 'ccaacc'\n",
    "b = str()\n",
    "for i in range(len(a)-1,-1,-1):\n",
    "    b += a[i]\n",
    "    print(i)\n",
    "    print(b)\n",
    "print(b)\n",
    "if a == b:\n",
    "    print('palindrone')\n",
    "else:\n",
    "    print('not palindrone')\n",
    "    "
   ]
  },
  {
   "cell_type": "code",
   "execution_count": 188,
   "metadata": {},
   "outputs": [
    {
     "data": {
      "application/javascript": [
       "\n",
       "        if (window._pyforest_update_imports_cell) { window._pyforest_update_imports_cell('import re\\nimport numpy as np'); }\n",
       "    "
      ],
      "text/plain": [
       "<IPython.core.display.Javascript object>"
      ]
     },
     "metadata": {},
     "output_type": "display_data"
    },
    {
     "data": {
      "application/javascript": [
       "\n",
       "        if (window._pyforest_update_imports_cell) { window._pyforest_update_imports_cell('import re\\nimport numpy as np'); }\n",
       "    "
      ],
      "text/plain": [
       "<IPython.core.display.Javascript object>"
      ]
     },
     "metadata": {},
     "output_type": "display_data"
    },
    {
     "name": "stdout",
     "output_type": "stream",
     "text": [
      "<class 'list'>\n",
      "<class 'numpy.ndarray'>\n",
      "<class 'list'>\n"
     ]
    }
   ],
   "source": [
    "a = np.array([])\n",
    "\n",
    "cars = [\"Ford\", \"Volvo\", \"BMW\"]\n",
    "\n",
    "a = np.array(cars)\n",
    "b = list(a)\n",
    "print(type(cars))\n",
    "print(type(a))\n",
    "print(type(b))\n"
   ]
  },
  {
   "cell_type": "code",
   "execution_count": 197,
   "metadata": {},
   "outputs": [
    {
     "name": "stdout",
     "output_type": "stream",
     "text": [
      "13\n",
      "22\n",
      "31\n",
      "14\n",
      "3\n",
      "2\n"
     ]
    }
   ],
   "source": [
    "a = [1,2,3,1]\n",
    "b = [3,2,1,4,5,6]\n",
    "k = 31\n",
    "n = 0\n",
    "if len(a) == len(b):\n",
    "    for i in range(len(a)):\n",
    "        c = int(str(a[i]) + str(b[i]))\n",
    "        if c < k:\n",
    "            n += 1\n",
    "        print(c)\n",
    "    print(1)\n",
    "    print(n)\n",
    "elif len(a) < len(b):\n",
    "    for i in range(len(a)):\n",
    "        c = int(str(a[i]) + str(b[i]))\n",
    "        if c < k:\n",
    "            n += 1\n",
    "        print(c)\n",
    "    print(n)\n",
    "    print(2)\n",
    "else:\n",
    "    for i in range(len(b)):\n",
    "        c = int(str(a[i]) + str(b[i]))\n",
    "        if c < k:\n",
    "            n += 1\n",
    "        print(c)\n",
    "    print(n)\n",
    "    print(3)"
   ]
  },
  {
   "cell_type": "code",
   "execution_count": 234,
   "metadata": {},
   "outputs": [
    {
     "name": "stdout",
     "output_type": "stream",
     "text": [
      "cat\n",
      "act\n",
      "{'act': ['cat']}\n",
      "dog\n",
      "dgo\n",
      "{'act': ['cat'], 'dgo': ['dog']}\n",
      "tac\n",
      "act\n",
      "{'act': ['cat', 'tac'], 'dgo': ['dog']}\n",
      "god\n",
      "dgo\n",
      "{'act': ['cat', 'tac'], 'dgo': ['dog', 'god']}\n",
      "act\n",
      "act\n",
      "{'act': ['cat', 'tac', 'act'], 'dgo': ['dog', 'god']}\n",
      "cat tac act dog god \n"
     ]
    }
   ],
   "source": [
    "\n",
    "# Function to return all anagrams together  \n",
    "def allAnagram(input):  \n",
    "      \n",
    "    # empty dictionary which holds subsets  \n",
    "    # of all anagrams together  \n",
    "    dict = {}  \n",
    "  \n",
    "    # traverse list of strings  \n",
    "    for strVal in input:  \n",
    "        print(strVal) \n",
    "        # sorted(iterable) method accepts any  \n",
    "        # iterable and rerturns list of items  \n",
    "        # in ascending order  \n",
    "        key = ''.join(sorted(strVal))\n",
    "        print(key)\n",
    "          \n",
    "        # now check if key exist in dictionary  \n",
    "        # or not. If yes then simply append the  \n",
    "        # strVal into the list of it's corresponding  \n",
    "        # key. If not then map empty list onto  \n",
    "        # key and then start appending values  \n",
    "        if key in dict.keys():  \n",
    "            dict[key].append(strVal)\n",
    "            print(dict)\n",
    "        else:  \n",
    "            dict[key] = []  \n",
    "            dict[key].append(strVal)\n",
    "            print(dict)\n",
    "  \n",
    "    # traverse dictionary and concatenate values  \n",
    "    # of keys together  \n",
    "    output = \"\"  \n",
    "    for key,value in dict.items():  \n",
    "        output = output + ' '.join(value) + ' '\n",
    "  \n",
    "    return output  \n",
    "  \n",
    "# Driver function  \n",
    "if __name__ == \"__main__\":  \n",
    "    input=['cat', 'dog', 'tac', 'god', 'act']  \n",
    "    print (allAnagram(input)) "
   ]
  },
  {
   "cell_type": "code",
   "execution_count": 241,
   "metadata": {},
   "outputs": [
    {
     "name": "stdout",
     "output_type": "stream",
     "text": [
      "['java']\n"
     ]
    }
   ],
   "source": [
    "s1 = 'java'\n",
    "s2 = 'ajav'\n",
    "s3 = ''.join(sorted(s2))\n",
    "s4 = s1.split()\n",
    "print(s4)"
   ]
  },
  {
   "cell_type": "code",
   "execution_count": 252,
   "metadata": {},
   "outputs": [
    {
     "name": "stdout",
     "output_type": "stream",
     "text": [
      " [cat tac act][dog god]\n"
     ]
    }
   ],
   "source": [
    "st = ['cat', 'dog', 'tac', 'god', 'act'] \n",
    "dict = {}\n",
    "for i in st:\n",
    "    key = ''.join(sorted(i))\n",
    "    if key in dict.keys():\n",
    "        dict[key].append(i)\n",
    "    else:\n",
    "        dict[key] = []\n",
    "        dict[key].append(i)\n",
    "st1 = \" \"\n",
    "for key in dict:\n",
    "    st1 = st1 + '[' + ' '.join(dict[key]) +']'\n",
    "print(st1)"
   ]
  },
  {
   "cell_type": "code",
   "execution_count": 248,
   "metadata": {},
   "outputs": [
    {
     "name": "stdout",
     "output_type": "stream",
     "text": [
      "{'A': 1, 'p': 2, 'l': 1, 'e': 1}\n"
     ]
    }
   ],
   "source": [
    "st = 'Apple'\n",
    "dict = {}\n",
    "for i in st:\n",
    "    dict[i] = st.count(i)\n",
    "print(dict)"
   ]
  },
  {
   "cell_type": "code",
   "execution_count": 256,
   "metadata": {},
   "outputs": [
    {
     "name": "stdout",
     "output_type": "stream",
     "text": [
      " [23 32][123 231 321]\n",
      "3\n"
     ]
    }
   ],
   "source": [
    "st = [23, 32, 123, 231, 321] \n",
    "st1 = [str(i) for i in st]\n",
    "dict = {}\n",
    "n = 0\n",
    "for i in st1:\n",
    "    key = ''.join(sorted(i))\n",
    "    if key in dict.keys():\n",
    "        dict[key].append(i)\n",
    "        n += 1\n",
    "    else:\n",
    "        dict[key] = []\n",
    "        dict[key].append(i)\n",
    "st1 = \" \"\n",
    "for key in dict:\n",
    "    st1 = st1 + '[' + ' '.join(dict[key]) +']'\n",
    "print(st1)\n",
    "print(n)"
   ]
  },
  {
   "cell_type": "code",
   "execution_count": 254,
   "metadata": {},
   "outputs": [
    {
     "name": "stdout",
     "output_type": "stream",
     "text": [
      "['23', '32', '123', '231', '321']\n"
     ]
    }
   ],
   "source": [
    "st = [23, 32, 123, 231, 321] \n",
    "st1 = [str(i) for i in st]\n",
    "print(st1)"
   ]
  },
  {
   "cell_type": "code",
   "execution_count": 258,
   "metadata": {},
   "outputs": [
    {
     "name": "stdout",
     "output_type": "stream",
     "text": [
      "[([7, 8, 9], 1), ([7, 8, 9], 2), ([7, 8, 9], 3), ([7, 8, 9], 4), ([7, 8, 9], 5), ([7, 8, 9], 6), ([7, 8, 9], 7)]\n"
     ]
    }
   ],
   "source": [
    "listoflists = []\n",
    "list = []\n",
    "for i in range(0,10):\n",
    "    list.append(i)\n",
    "    if len(list)>3:\n",
    "        list.remove(list[0])\n",
    "        listoflists.append((list, list[0]))\n",
    "print(listoflists)"
   ]
  },
  {
   "cell_type": "code",
   "execution_count": 269,
   "metadata": {},
   "outputs": [
    {
     "name": "stdout",
     "output_type": "stream",
     "text": [
      "3\n",
      "4\n",
      "5.0\n",
      "2\n",
      "3.5\n",
      "3\n",
      "3.33\n",
      "11.83\n",
      "3.94\n"
     ]
    }
   ],
   "source": [
    "l1 = [[7, 1, 9,3], [2, 5], [6, 0, 4]]\n",
    "s1 = 0\n",
    "m1 = 0\n",
    "n1 = len(l1)\n",
    "print(n1)\n",
    "for i in l1:\n",
    "    m2 = 0\n",
    "    s2 = 0\n",
    "    n2 = len(i)\n",
    "    print(n2)\n",
    "    for j in i:\n",
    "        s2 += j\n",
    "    m2 = round(s2/n2,2)\n",
    "    print(m2)\n",
    "    s1 += m2\n",
    "print(s1)\n",
    "m1 = round(s1/n1,2)\n",
    "print(m1)\n",
    "\n",
    "        "
   ]
  },
  {
   "cell_type": "code",
   "execution_count": null,
   "metadata": {},
   "outputs": [],
   "source": []
  }
 ],
 "metadata": {
  "kernelspec": {
   "display_name": "Python 3",
   "language": "python",
   "name": "python3"
  },
  "language_info": {
   "codemirror_mode": {
    "name": "ipython",
    "version": 3
   },
   "file_extension": ".py",
   "mimetype": "text/x-python",
   "name": "python",
   "nbconvert_exporter": "python",
   "pygments_lexer": "ipython3",
   "version": "3.7.6"
  }
 },
 "nbformat": 4,
 "nbformat_minor": 4
}
